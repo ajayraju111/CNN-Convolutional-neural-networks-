{
  "nbformat": 4,
  "nbformat_minor": 0,
  "metadata": {
    "colab": {
      "name": "Classification on cifar10 Data set using Tensorflow from scratch",
      "provenance": [],
      "collapsed_sections": []
    },
    "kernelspec": {
      "name": "python3",
      "display_name": "Python 3"
    },
    "accelerator": "GPU"
  },
  "cells": [
    {
      "cell_type": "code",
      "metadata": {
        "id": "a9cENpziXjQg",
        "colab_type": "code",
        "colab": {
          "base_uri": "https://localhost:8080/",
          "height": 101
        },
        "outputId": "09def7da-bc58-4bab-b181-69187e43fe6c"
      },
      "source": [
        "%tensorflow_version 1.x\""
      ],
      "execution_count": 49,
      "outputs": [
        {
          "output_type": "stream",
          "text": [
            "`%tensorflow_version` only switches the major version: 1.x or 2.x.\n",
            "You set: `1.x\"`. This will be interpreted as: `1.x`.\n",
            "\n",
            "\n",
            "TensorFlow is already loaded. Please restart the runtime to change versions.\n"
          ],
          "name": "stdout"
        }
      ]
    },
    {
      "cell_type": "code",
      "metadata": {
        "id": "lNDya_GzePCM",
        "colab_type": "code",
        "colab": {}
      },
      "source": [
        "\n",
        "import numpy as np\n",
        "import matplotlib.pyplot as plt\n",
        "from keras.utils import to_categorical#for one  hot encoding\n",
        "from keras.datasets import cifar10\n",
        "import tensorflow as tf\n",
        "from IPython.display import clear_output"
      ],
      "execution_count": 50,
      "outputs": []
    },
    {
      "cell_type": "code",
      "metadata": {
        "id": "fOzSL3VYfKMm",
        "colab_type": "code",
        "colab": {}
      },
      "source": [
        "\n",
        "(x_train,y_train),(x_test,y_test) = cifar10.load_data()     #loading the data"
      ],
      "execution_count": 51,
      "outputs": []
    },
    {
      "cell_type": "code",
      "metadata": {
        "id": "K6JVwKp6yh5q",
        "colab_type": "code",
        "colab": {}
      },
      "source": [
        "y_train = to_categorical(y_train,10) #one hoting y_train"
      ],
      "execution_count": 52,
      "outputs": []
    },
    {
      "cell_type": "code",
      "metadata": {
        "id": "IB31WeMQLNVK",
        "colab_type": "code",
        "colab": {
          "base_uri": "https://localhost:8080/",
          "height": 35
        },
        "outputId": "5e6fd91c-7a29-413e-fe84-85aa29a5ad18"
      },
      "source": [
        "tf.test.gpu_device_name()     #testing the run type"
      ],
      "execution_count": 53,
      "outputs": [
        {
          "output_type": "execute_result",
          "data": {
            "application/vnd.google.colaboratory.intrinsic+json": {
              "type": "string"
            },
            "text/plain": [
              "'/device:GPU:0'"
            ]
          },
          "metadata": {
            "tags": []
          },
          "execution_count": 53
        }
      ]
    },
    {
      "cell_type": "code",
      "metadata": {
        "id": "5bdirWuCgSi-",
        "colab_type": "code",
        "colab": {
          "base_uri": "https://localhost:8080/",
          "height": 50
        },
        "outputId": "0d3477eb-b6a4-40ec-dde6-cd5f8b0769f6"
      },
      "source": [
        "\n",
        "print(\"x_train\",x_train.shape)\n",
        "print(\"y_train\",y_train.shape)"
      ],
      "execution_count": 54,
      "outputs": [
        {
          "output_type": "stream",
          "text": [
            "x_train (50000, 32, 32, 3)\n",
            "y_train (50000, 10)\n"
          ],
          "name": "stdout"
        }
      ]
    },
    {
      "cell_type": "code",
      "metadata": {
        "id": "sxEon9YxPbel",
        "colab_type": "code",
        "colab": {}
      },
      "source": [
        "tf.compat.v1.reset_default_graph()\n",
        "x_ph = tf.placeholder(tf.float32,shape = [None,32,32,3]) #(32,32,3) image dimensions\n",
        "y_ph= tf.placeholder(tf.float32,shape =  [None,10]) #here 10 indicates classes for each image like in the point of x_ph the each_image_dimensions will be of(32,32,3) like that y_ph is also be having 10 classes of different images\n",
        "\n"
      ],
      "execution_count": 55,
      "outputs": []
    },
    {
      "cell_type": "markdown",
      "metadata": {
        "id": "7iPD0lNRjZmx",
        "colab_type": "text"
      },
      "source": [
        ""
      ]
    },
    {
      "cell_type": "code",
      "metadata": {
        "id": "OZLaBSYAXFlC",
        "colab_type": "code",
        "colab": {}
      },
      "source": [
        "F_1 = tf.get_variable(\"F_1\",shape = [7,7,3,100],initializer = tf.contrib.layers.xavier_initializer())\n",
        "F_2 = tf.get_variable(\"F_2\",shape = [5,5,100,100],initializer = tf.contrib.layers.xavier_initializer())\n",
        "F_3 = tf.get_variable(\"F_3\",shape = [3,3,100,100],initializer = tf.contrib.layers.xavier_initializer())\n"
      ],
      "execution_count": 56,
      "outputs": []
    },
    {
      "cell_type": "code",
      "metadata": {
        "colab_type": "code",
        "id": "EvQLJ5pkVY8d",
        "colab": {}
      },
      "source": [
        "conv1 = tf.nn.conv2d(x_ph,F_1,strides = [1,1,1,1],padding = 'SAME')\n",
        "l1out = tf.nn.relu(conv1)\n",
        "l1out = tf.nn.max_pool(l1out,ksize = [1,1,1,1],padding =\"SAME\",strides = [1,1,1,1])\n",
        "conv2 = tf.nn.conv2d(l1out,F_2,strides = [1,1,1,1],padding = \"SAME\")\n",
        "l2out = tf.nn.relu(conv2)\n",
        "l2out = tf.nn.max_pool(l2out,ksize = [1,2,2,1],padding =\"SAME\",strides = [1,1,1,1])\n",
        "conv3 = tf.nn.conv2d(l2out,F_3,strides = [1,1,1,1],padding = 'SAME')\n",
        "l3out = tf.nn.relu(conv3)\n",
        "l3out = tf.nn.max_pool(l3out,ksize=[1,2,2,1],padding='SAME',strides=[1,2,2,1])\n",
        "l4out = tf.contrib.layers.flatten(l3out)\n",
        "l4out = tf.layers.dense(l4out,units=1000,activation=tf.nn.tanh,kernel_initializer=tf.contrib.layers.xavier_initializer())\n",
        "finalout = tf.layers.dense(l4out,units=10,activation=tf.nn.softmax,kernel_initializer=tf.contrib.layers.xavier_initializer())\n",
        "#dense  = dense layer is just a normal neural network layer,whatever we will be inputting in dense it will be taking \n"
      ],
      "execution_count": 57,
      "outputs": []
    },
    {
      "cell_type": "code",
      "metadata": {
        "id": "8AH2sSfMyzi8",
        "colab_type": "code",
        "colab": {
          "base_uri": "https://localhost:8080/",
          "height": 134
        },
        "outputId": "d7f00e1d-ab25-4426-b219-6a5493f15791"
      },
      "source": [
        "\n",
        "print(\"x_ph\",x_ph.shape)\n",
        "print(\"y_ph\",y_ph.shape)\n",
        "print(\"l1out\",l1out.shape)\n",
        "print(\"l2out\",l2out.shape)\n",
        "print(\"l3out\",l3out.shape)\n",
        "print(\"l4out\",l4out.shape)\n",
        "print(\"finalout\",finalout.shape)"
      ],
      "execution_count": 58,
      "outputs": [
        {
          "output_type": "stream",
          "text": [
            "x_ph (?, 32, 32, 3)\n",
            "y_ph (?, 10)\n",
            "l1out (?, 32, 32, 100)\n",
            "l2out (?, 32, 32, 100)\n",
            "l3out (?, 16, 16, 100)\n",
            "l4out (?, 1000)\n",
            "finalout (?, 10)\n"
          ],
          "name": "stdout"
        }
      ]
    },
    {
      "cell_type": "code",
      "metadata": {
        "id": "DUa7fmWvl-Pu",
        "colab_type": "code",
        "colab": {}
      },
      "source": [
        "cost = tf.reduce_mean((finalout - y_ph)**2)\n",
        "optimizer = tf.train.GradientDescentOptimizer(learning_rate = 0.01)\n",
        "minimizer = optimizer.minimize(cost)\n",
        "Init = tf.global_variables_initializer()\n",
        "S = tf.Session()\n",
        "S.run(Init)\n"
      ],
      "execution_count": 59,
      "outputs": []
    },
    {
      "cell_type": "code",
      "metadata": {
        "id": "xVlRQpWVLrSJ",
        "colab_type": "code",
        "colab": {
          "base_uri": "https://localhost:8080/",
          "height": 298
        },
        "outputId": "931422fb-7808-4505-be8c-73e39cdec073"
      },
      "source": [
        "error  = []\n",
        "BATCH_SIZE = 100\n",
        "iterations = 8000\n",
        "for i in range(iterations):\n",
        "  random_indices = np.random.randint(0,len(x_train),size = BATCH_SIZE)\n",
        "  FD = {x_ph: x_train[random_indices],y_ph:y_train[random_indices]}\n",
        "  S.run(minimizer,feed_dict =FD)\n",
        "  #ajay = S.run(cost,feed_dict = FD)\n",
        "  error.append(S.run(cost,feed_dict = FD))\n",
        "  clear_output(True)\n",
        "  print(\"error:\",S.run(cost,feed_dict = FD))\n",
        "  print(\"itertions\",i)\n",
        "  plt.plot(error)\n",
        "plt.show()\n",
        "  "
      ],
      "execution_count": 78,
      "outputs": [
        {
          "output_type": "stream",
          "text": [
            "error: 0.0126034655\n",
            "itertions 7999\n"
          ],
          "name": "stdout"
        },
        {
          "output_type": "display_data",
          "data": {
            "image/png": "[encoded data removed]",
            "text/plain": [
              "<Figure size 432x288 with 1 Axes>"
            ]
          },
          "metadata": {
            "tags": [],
            "needs_background": "light"
          }
        }
      ]
    },
    {
      "cell_type": "code",
      "metadata": {
        "id": "HKiACn0aLqcc",
        "colab_type": "code",
        "colab": {}
      },
      "source": [
        "\n",
        "predictions = np.argmax(S.run(finalout,feed_dict = {x_ph:x_test,y_ph:to_categorical(y_test, num_classes = 10)}),axis = 1)"
      ],
      "execution_count": 79,
      "outputs": []
    },
    {
      "cell_type": "code",
      "metadata": {
        "id": "IxwUSlXQJsIU",
        "colab_type": "code",
        "colab": {
          "base_uri": "https://localhost:8080/",
          "height": 34
        },
        "outputId": "7749a8fc-d76d-47d9-9f36-83efa7951816"
      },
      "source": [
        "\n",
        "from sklearn.metrics import accuracy_score\n",
        "print(\"Accuracy: \",accuracy_score(predictions,y_test)*100,\"%\")"
      ],
      "execution_count": 80,
      "outputs": [
        {
          "output_type": "stream",
          "text": [
            "Accuracy:  64.77000000000001 %\n"
          ],
          "name": "stdout"
        }
      ]
    },
    {
      "cell_type": "code",
      "metadata": {
        "id": "vENe7ZK7I1Pi",
        "colab_type": "code",
        "colab": {
          "base_uri": "https://localhost:8080/",
          "height": 332
        },
        "outputId": "de286a0b-b4af-4864-882a-97dc5d5fa627"
      },
      "source": [
        "plt.hist(accuracy_score(predictions,y_test)*100)"
      ],
      "execution_count": 82,
      "outputs": [
        {
          "output_type": "execute_result",
          "data": {
            "text/plain": [
              "(array([0., 0., 0., 0., 0., 1., 0., 0., 0., 0.]),\n",
              " array([64.27, 64.37, 64.47, 64.57, 64.67, 64.77, 64.87, 64.97, 65.07,\n",
              "        65.17, 65.27]),\n",
              " <a list of 10 Patch objects>)"
            ]
          },
          "metadata": {
            "tags": []
          },
          "execution_count": 82
        },
        {
          "output_type": "display_data",
          "data": {
            "image/png": "[encoded data removed]",
            "text/plain": [
              "<Figure size 432x288 with 1 Axes>"
            ]
          },
          "metadata": {
            "tags": [],
            "needs_background": "light"
          }
        }
      ]
    },
    {
      "cell_type": "markdown",
      "metadata": {
        "id": "WUmks64AdzlH",
        "colab_type": "text"
      },
      "source": [
        "Our simple CNn has achieved a test accuracy of over 64.77% with tensorflow not bad , For another CNN style, see an example using the Keras."
      ]
    }
  ]
}